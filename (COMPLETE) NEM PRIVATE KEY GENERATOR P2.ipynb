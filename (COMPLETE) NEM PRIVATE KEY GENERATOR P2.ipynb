{
 "cells": [
  {
   "cell_type": "code",
   "execution_count": 1,
   "metadata": {
    "scrolled": true
   },
   "outputs": [
    {
     "name": "stdout",
     "output_type": "stream",
     "text": [
      "the public key is 47a80a44b4e5990de373803acee2dc68e38cd849c8883f68adb87a77ec4c74b9\n",
      "the private key is a3966d51f10b7ffd5b4c65a0d08674f3c44da8272a4722ca1286734d82c8ff9b\n"
     ]
    }
   ],
   "source": [
    "import ed25519\n",
    "\n",
    "signing_key, verifying_key = ed25519.create_keypair()\n",
    "\n",
    "open(\"my-secret-key\",\"wb\").write(signing_key.to_bytes())\n",
    "\n",
    "vkey_hex = verifying_key.to_ascii(encoding=\"hex\")\n",
    "\n",
    "print \"the public key is\", vkey_hex\n",
    "\n",
    "open(\"my-secret-seed\",\"wb\").write(signing_key.to_seed())\n",
    "\n",
    "print \"the private key is\",signing_key.to_ascii(encoding=\"hex\")"
   ]
  },
  {
   "cell_type": "code",
   "execution_count": 2,
   "metadata": {},
   "outputs": [],
   "source": [
    "open(\"my-secret-seed\",\"wb\").write(signing_key.to_seed())\n",
    "\n",
    "keydata = open(\"my-secret-key\",\"rb\").read()\n",
    "signing_key = ed25519.SigningKey(keydata)\n",
    " \n",
    "seed = open(\"my-secret-seed\",\"rb\").read()\n",
    "signing_key2 = ed25519.SigningKey(seed)\n",
    "assert signing_key == signing_key2\n",
    "\n"
   ]
  },
  {
   "cell_type": "code",
   "execution_count": 3,
   "metadata": {},
   "outputs": [],
   "source": [
    "import os, hashlib\n",
    "\n",
    "master = os.urandom(87)\n",
    "seed = hashlib.sha256(master).digest()\n",
    "signing_key = ed25519.SigningKey(seed)\n"
   ]
  },
  {
   "cell_type": "code",
   "execution_count": 4,
   "metadata": {},
   "outputs": [
    {
     "name": "stdout",
     "output_type": "stream",
     "text": [
      "sig is: LrpY8W1f9gB8YeRgTfqBnxG+NhWj4Kk37jN6TyM+81ACXrEhw98km4DHI8PLmSo2IdG46SxvygqpE0sjij+KAQ\n"
     ]
    }
   ],
   "source": [
    "sig = signing_key.sign(b\"hello world\", encoding=\"base64\")\n",
    "print \"sig is:\", sig"
   ]
  },
  {
   "cell_type": "code",
   "execution_count": 5,
   "metadata": {},
   "outputs": [
    {
     "name": "stdout",
     "output_type": "stream",
     "text": [
      "signature is bad!\n"
     ]
    }
   ],
   "source": [
    "vkey_hex = b\"ccf2a4395ed6d47db6af9db7695468dc37fc9c82a33006a526202218beecf55d\"\n",
    "\n",
    "verifying_key = ed25519.VerifyingKey(vkey_hex, encoding=\"hex\")\n",
    "try:\n",
    "  verifying_key.verify(sig, b\"hello world\", encoding=\"base64\")\n",
    "  print \"signature is good\"\n",
    "except ed25519.BadSignatureError:\n",
    "    \n",
    "  print \"signature is bad!\""
   ]
  },
  {
   "cell_type": "code",
   "execution_count": 63,
   "metadata": {},
   "outputs": [
    {
     "name": "stdout",
     "output_type": "stream",
     "text": [
      "ccf2a4395ed6d47db6af9db7695468dc37fc9c82a33006a526202218beecf55d\n"
     ]
    }
   ],
   "source": [
    "keydata = open(\"my-secret-seed\",\"rb\").read()\n",
    "signing_key = ed25519.SigningKey(keydata)\n",
    "verifying_key = signing_key.get_verifying_key()\n",
    "\n",
    "\n",
    "print verifying_key.to_ascii(encoding=\"hex\")"
   ]
  },
  {
   "cell_type": "code",
   "execution_count": null,
   "metadata": {},
   "outputs": [],
   "source": []
  }
 ],
 "metadata": {
  "kernelspec": {
   "display_name": "Python 2",
   "language": "python",
   "name": "python2"
  },
  "language_info": {
   "codemirror_mode": {
    "name": "ipython",
    "version": 2
   },
   "file_extension": ".py",
   "mimetype": "text/x-python",
   "name": "python",
   "nbconvert_exporter": "python",
   "pygments_lexer": "ipython2",
   "version": "2.7.14"
  }
 },
 "nbformat": 4,
 "nbformat_minor": 2
}
