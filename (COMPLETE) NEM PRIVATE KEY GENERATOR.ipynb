{
 "cells": [
  {
   "cell_type": "code",
   "execution_count": 31,
   "metadata": {
    "scrolled": true
   },
   "outputs": [
    {
     "name": "stdout",
     "output_type": "stream",
     "text": [
      "the public key is 0a18c435d33711e4a10f40630d2fa68f45509e6471577f0a5435b2bebd2e34a2\n",
      "the private key is 3bb9b46cc9c54e95b41c338ea331231f0176e136adc1d7ec1db6c4ab4855a89f\n"
     ]
    }
   ],
   "source": [
    "import ed25519\n",
    "\n",
    "signing_key, verifying_key = ed25519.create_keypair()\n",
    "\n",
    "open(\"my-secret-key\",\"wb\").write(signing_key.to_bytes())\n",
    "\n",
    "vkey_hex = verifying_key.to_ascii(encoding=\"hex\")\n",
    "\n",
    "print \"the public key is\", vkey_hex\n",
    "\n",
    "open(\"my-secret-seed\",\"wb\").write(signing_key.to_seed())\n",
    "\n",
    "print \"the private key is\",signing_key.to_ascii(encoding=\"hex\")"
   ]
  },
  {
   "cell_type": "code",
   "execution_count": 32,
   "metadata": {},
   "outputs": [],
   "source": [
    "open(\"my-secret-seed\",\"wb\").write(signing_key.to_seed())\n",
    "\n",
    "keydata = open(\"my-secret-key\",\"rb\").read()\n",
    "signing_key = ed25519.SigningKey(keydata)\n",
    " \n",
    "seed = open(\"my-secret-seed\",\"rb\").read()\n",
    "signing_key2 = ed25519.SigningKey(seed)\n",
    "assert signing_key == signing_key2\n",
    "\n"
   ]
  },
  {
   "cell_type": "code",
   "execution_count": 33,
   "metadata": {},
   "outputs": [],
   "source": [
    "import os, hashlib\n",
    "\n",
    "master = os.urandom(87)\n",
    "seed = hashlib.sha256(master).digest()\n",
    "signing_key = ed25519.SigningKey(seed)\n"
   ]
  },
  {
   "cell_type": "code",
   "execution_count": 34,
   "metadata": {},
   "outputs": [
    {
     "name": "stdout",
     "output_type": "stream",
     "text": [
      "sig is: ipUzequH5GLwlvuEVZKd2J62l9tcgPuONw17IQXKWh9WoKUt6+OrfOXRzvrLILTY3LUNtwv6YfOEg68MIXcoDA\n"
     ]
    }
   ],
   "source": [
    "sig = signing_key.sign(b\"hello world\", encoding=\"base64\")\n",
    "print \"sig is:\", sig"
   ]
  },
  {
   "cell_type": "code",
   "execution_count": 38,
   "metadata": {},
   "outputs": [
    {
     "name": "stdout",
     "output_type": "stream",
     "text": [
      "signature is bad!\n"
     ]
    }
   ],
   "source": [
    "vkey_hex = b\"0a18c435d33711e4a10f40630d2fa68f45509e6471577f0a5435b2bebd2e34a2\"\n",
    "\n",
    "verifying_key = ed25519.VerifyingKey(vkey_hex, encoding=\"hex\")\n",
    "try:\n",
    "  verifying_key.verify(sig, b\"hello world\", encoding=\"base64\")\n",
    "  print \"signature is good\"\n",
    "except ed25519.BadSignatureError:\n",
    "    \n",
    "  print \"signature is bad!\""
   ]
  },
  {
   "cell_type": "code",
   "execution_count": 39,
   "metadata": {},
   "outputs": [
    {
     "name": "stdout",
     "output_type": "stream",
     "text": [
      "0a18c435d33711e4a10f40630d2fa68f45509e6471577f0a5435b2bebd2e34a2\n"
     ]
    }
   ],
   "source": [
    "keydata = open(\"my-secret-seed\",\"rb\").read()\n",
    "signing_key = ed25519.SigningKey(keydata)\n",
    "verifying_key = signing_key.get_verifying_key()\n",
    "\n",
    "\n",
    "print verifying_key.to_ascii(encoding=\"hex\")"
   ]
  },
  {
   "cell_type": "code",
   "execution_count": null,
   "metadata": {},
   "outputs": [],
   "source": []
  }
 ],
 "metadata": {
  "kernelspec": {
   "display_name": "Python 2",
   "language": "python",
   "name": "python2"
  },
  "language_info": {
   "codemirror_mode": {
    "name": "ipython",
    "version": 2
   },
   "file_extension": ".py",
   "mimetype": "text/x-python",
   "name": "python",
   "nbconvert_exporter": "python",
   "pygments_lexer": "ipython2",
   "version": "2.7.14"
  }
 },
 "nbformat": 4,
 "nbformat_minor": 2
}
